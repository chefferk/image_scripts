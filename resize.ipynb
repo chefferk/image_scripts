{
 "cells": [
  {
   "cell_type": "code",
   "execution_count": 46,
   "metadata": {},
   "outputs": [],
   "source": [
    "from PIL import Image\n",
    "import os, sys\n",
    "import exifread\n",
    "import random\n",
    "import string\n",
    "import threading"
   ]
  },
  {
   "cell_type": "code",
   "execution_count": 86,
   "metadata": {},
   "outputs": [],
   "source": [
    "def rename(infile):\n",
    "    lst = [random.choice(string.ascii_letters + string.digits) for n in range(15)]\n",
    "    random_hex = \"\".join(lst)\n",
    "    _, f_ext = os.path.splitext(infile)\n",
    "    picture_fn = random_hex + f_ext\n",
    "    os.rename(infile, os.path.join(dir, picture_fn))\n",
    "    \n",
    "    return picture_fn\n",
    "\n",
    "\n",
    "def resize(file, dir, basewidth=300, re_name=False):\n",
    "    infile = os.path.join(dir, file)\n",
    "\n",
    "    if re_name:\n",
    "        infile = os.path.join(dir, rename(infile))\n",
    "\n",
    "    # create outfile name\n",
    "    outfile = os.path.split(infile)[0] + '/resized/' + os.path.splitext(file)[0] + '_resized.jpg'\n",
    "    \n",
    "\n",
    "    # Open open image with pillow\n",
    "    img = Image.open(infile)\n",
    "    \n",
    "    width_percent = basewidth / img.size[0]\n",
    "    \n",
    "    hsize = int((float(img.size[1]) * float(width_percent)))\n",
    "    \n",
    "    img = img.resize((basewidth, hsize), Image.ANTIALIAS)\n",
    "    \n",
    "    img.save(outfile)"
   ]
  },
  {
   "cell_type": "code",
   "execution_count": 87,
   "metadata": {},
   "outputs": [
    {
     "name": "stdout",
     "output_type": "stream",
     "text": [
      "Creating dir: /Users/keaton/Downloads/cross-stratification/resized\n",
      "CPU times: user 47.3 s, sys: 3.64 s, total: 50.9 s\n",
      "Wall time: 4.49 s\n"
     ]
    }
   ],
   "source": [
    "%%time\n",
    "\n",
    "# get working dir\n",
    "dir = '/Users/keaton/Downloads/cross-stratification/'\n",
    "\n",
    "\n",
    "# make new folder if that folder isn't there yet\n",
    "output_dir = 'resized'\n",
    "if not os.path.exists(os.path.join(dir, output_dir)):\n",
    "    print(f'Creating dir: {os.path.join(dir, output_dir)}')\n",
    "    os.mkdir(os.path.join(dir, output_dir))\n",
    "    \n",
    "    \n",
    "\n",
    "for file in os.listdir(dir):\n",
    "    if file.endswith('.jpg'):\n",
    "        thread = threading.Thread(target=resize, args=(file, dir), kwargs={'re_name':False, 'basewidth':1000})\n",
    "        thread.start()"
   ]
  },
  {
   "cell_type": "code",
   "execution_count": null,
   "metadata": {},
   "outputs": [
    {
     "name": "stdout",
     "output_type": "stream",
     "text": [
      "Creating dir: /Users/keaton/Downloads/cross-stratification/resized\n"
     ]
    }
   ],
   "source": [
    "%%time\n",
    "\n",
    "# get working dir\n",
    "dir = '/Users/keaton/Downloads/cross-stratification/'\n",
    "\n",
    "\n",
    "# make new folder if that folder isn't there yet\n",
    "output_dir = 'resized'\n",
    "if not os.path.exists(os.path.join(dir, output_dir)):\n",
    "    print(f'Creating dir: {os.path.join(dir, output_dir)}')\n",
    "    os.mkdir(os.path.join(dir, output_dir))\n",
    "    \n",
    "    \n",
    "\n",
    "for file in os.listdir(dir):\n",
    "    if file.endswith('.jpg'):\n",
    "        resize(file, dir)"
   ]
  },
  {
   "cell_type": "code",
   "execution_count": null,
   "metadata": {},
   "outputs": [],
   "source": []
  }
 ],
 "metadata": {
  "kernelspec": {
   "display_name": "Python 3",
   "language": "python",
   "name": "python3"
  },
  "language_info": {
   "codemirror_mode": {
    "name": "ipython",
    "version": 3
   },
   "file_extension": ".py",
   "mimetype": "text/x-python",
   "name": "python",
   "nbconvert_exporter": "python",
   "pygments_lexer": "ipython3",
   "version": "3.6.4"
  }
 },
 "nbformat": 4,
 "nbformat_minor": 2
}
